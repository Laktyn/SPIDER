{
 "cells": [
  {
   "cell_type": "markdown",
   "metadata": {},
   "source": [
    "# Modules"
   ]
  },
  {
   "cell_type": "code",
   "execution_count": 1,
   "metadata": {},
   "outputs": [
    {
     "data": {
      "text/plain": [
       "<module 'spectral_analysis' from 'd:\\\\Users\\\\rewas\\\\AppData\\\\Local\\\\Programs\\\\Python\\\\Python310\\\\lib\\\\site-packages\\\\spectral_analysis.py'>"
      ]
     },
     "execution_count": 1,
     "metadata": {},
     "output_type": "execute_result"
    }
   ],
   "source": [
    "import spectral_analysis as sa\n",
    "import numpy as np\n",
    "import matplotlib.pyplot as plt\n",
    "import pandas as pd\n",
    "\n",
    "import importlib\n",
    "import sys\n",
    "module = sys.modules[\"spectral_analysis\"]\n",
    "importlib.reload(module)"
   ]
  },
  {
   "cell_type": "code",
   "execution_count": 2,
   "metadata": {},
   "outputs": [],
   "source": [
    "how = \"slope\"\n",
    "\n",
    "if how == \"rect\":\n",
    "    method_descr = \"Fit rectangle and compute its shift.\"\n",
    "if how == \"fit\":\n",
    "    method_descr = \"Fit shear by minimizing squared error.\"\n",
    "if how == \"com\":\n",
    "    method_descr = \"Compute the shift of the center of mass.\"\n",
    "if how == \"slope\":\n",
    "    method_descr = \"Compute the shift of the slopes.\""
   ]
  },
  {
   "cell_type": "markdown",
   "metadata": {},
   "source": [
    "# 0 m chirping fiber"
   ]
  },
  {
   "cell_type": "code",
   "execution_count": 3,
   "metadata": {},
   "outputs": [
    {
     "data": {
      "text/plain": [
       "-0.2877202384854717"
      ]
     },
     "execution_count": 3,
     "metadata": {},
     "output_type": "execute_result"
    }
   ],
   "source": [
    "shear = sa.find_shear(\"data/0m_shear.csv\", \n",
    "            \"data/0m_noshear.csv\", \n",
    "            smoothing_period = None,\n",
    "            how = how, \n",
    "            plot = False)\n",
    "\n",
    "phase_0 = sa.spider(\"data/0m_pspectrum.csv\", \n",
    "          \"data/0m_tspectrum.csv\",\n",
    "          shear = shear,\n",
    "          what_to_return = \"phase\",\n",
    "          plot_pulse = False,\n",
    "          plot_phase = False,\n",
    "          smoothing_period = 0.065)[1]\n",
    "\n",
    "sa.chirp_r2(phase_0, 84, False)"
   ]
  },
  {
   "cell_type": "markdown",
   "metadata": {},
   "source": [
    "# 20 m chirping fiber"
   ]
  },
  {
   "cell_type": "code",
   "execution_count": 4,
   "metadata": {},
   "outputs": [
    {
     "data": {
      "text/plain": [
       "0.9841692555027344"
      ]
     },
     "execution_count": 4,
     "metadata": {},
     "output_type": "execute_result"
    }
   ],
   "source": [
    "shear = sa.find_shear(\"data/20m_shear.csv\", \n",
    "            \"data/20m_noshear.csv\", \n",
    "            smoothing_period = None,\n",
    "            how = how, \n",
    "            plot = False)\n",
    "\n",
    "phase_20 = sa.spider(\"data/20m_pspectrum.csv\", \n",
    "          \"data/20m_tspectrum.csv\",\n",
    "          shear = shear,\n",
    "          what_to_return = \"phase\",\n",
    "          plot_pulse = False,\n",
    "          plot_phase = False,\n",
    "          smoothing_period = 0.065)[1]\n",
    "\n",
    "sa.chirp_r2(phase_20, 104, False)"
   ]
  },
  {
   "cell_type": "markdown",
   "metadata": {},
   "source": [
    "# 40 m fiber length"
   ]
  },
  {
   "cell_type": "code",
   "execution_count": 5,
   "metadata": {},
   "outputs": [
    {
     "data": {
      "text/plain": [
       "0.9565372749549707"
      ]
     },
     "execution_count": 5,
     "metadata": {},
     "output_type": "execute_result"
    }
   ],
   "source": [
    "shear = sa.find_shear(\"data/40m_shear.csv\", \n",
    "            \"data/40m_noshear.csv\", \n",
    "            smoothing_period = None,\n",
    "            how = how, \n",
    "            plot = False)\n",
    "\n",
    "phase_40 = sa.spider(\"data/40m_pspectrum.csv\", \n",
    "          \"data/40m_tspectrum.csv\",\n",
    "          shear = shear,\n",
    "          what_to_return = \"phase\",\n",
    "          plot_pulse = False,\n",
    "          plot_phase = False,\n",
    "          smoothing_period = 0.065)[1]\n",
    "\n",
    "sa.chirp_r2(phase_40, 124, False)"
   ]
  },
  {
   "cell_type": "markdown",
   "metadata": {},
   "source": [
    "# 60 m fiber length"
   ]
  },
  {
   "cell_type": "code",
   "execution_count": 6,
   "metadata": {},
   "outputs": [
    {
     "data": {
      "text/plain": [
       "0.9273651839856724"
      ]
     },
     "execution_count": 6,
     "metadata": {},
     "output_type": "execute_result"
    }
   ],
   "source": [
    "shear = sa.find_shear(\"data/60m_shear.csv\", \n",
    "            \"data/60m_noshear.csv\", \n",
    "            smoothing_period = None,\n",
    "            how = how, \n",
    "            plot = False)\n",
    "\n",
    "phase_60 = sa.spider(\"data/60m_pspectrum.csv\", \n",
    "          \"data/60m_tspectrum.csv\",\n",
    "          shear = shear,\n",
    "          what_to_return = \"phase\",\n",
    "          plot_pulse = False,\n",
    "          plot_phase = False,\n",
    "          smoothing_period = 0.065)[1]\n",
    "\n",
    "sa.chirp_r2(phase_60, 144, False)"
   ]
  },
  {
   "cell_type": "markdown",
   "metadata": {},
   "source": [
    "# 25 September, 40+80m"
   ]
  },
  {
   "cell_type": "code",
   "execution_count": 7,
   "metadata": {},
   "outputs": [
    {
     "data": {
      "text/plain": [
       "0.9986139071283376"
      ]
     },
     "execution_count": 7,
     "metadata": {},
     "output_type": "execute_result"
    }
   ],
   "source": [
    "shear = sa.find_shear(\"data2/80d40c_shear.csv\", \n",
    "            \"data2/80d40c_noshear.csv\", \n",
    "            smoothing_period = None,\n",
    "            how = how, \n",
    "            plot = False)\n",
    "\n",
    "phase_40_v2 = sa.spider(\"data2/80d40c_pspectrum.csv\", \n",
    "          \"data2/80d40c_tspectrum.csv\",\n",
    "          shear = shear,\n",
    "          what_to_return = \"phase\",\n",
    "          plot_pulse = False,\n",
    "          plot_phase = False,\n",
    "          smoothing_period = 0.065)[1]\n",
    "\n",
    "sa.chirp_r2(phase_40_v2, 124, False)"
   ]
  },
  {
   "cell_type": "markdown",
   "metadata": {},
   "source": [
    "# 12 August, 80+20m"
   ]
  },
  {
   "cell_type": "code",
   "execution_count": 8,
   "metadata": {},
   "outputs": [
    {
     "data": {
      "text/plain": [
       "0.9722574422298421"
      ]
     },
     "execution_count": 8,
     "metadata": {},
     "output_type": "execute_result"
    }
   ],
   "source": [
    "shear = sa.find_shear(\"data3/80del20chirp_sheared.csv\", \n",
    "            \"data3/80del20chirp_not_sheared.csv\", \n",
    "            smoothing_period = None,\n",
    "            how = how, \n",
    "            plot = False)\n",
    "\n",
    "phase_20_v3 = sa.spider(\"data3/80del20chirp_p_spectrum.csv\", \n",
    "          \"data3/80del20chirp_t_spectrum.csv\",\n",
    "          shear = shear,\n",
    "          what_to_return = \"phase\",\n",
    "          plot_pulse = False,\n",
    "          plot_phase = False,\n",
    "          smoothing_period = 0.065)[1]\n",
    "\n",
    "sa.chirp_r2(phase_20_v3, 104, False)"
   ]
  },
  {
   "cell_type": "markdown",
   "metadata": {},
   "source": [
    "# 12 August, 80+40m"
   ]
  },
  {
   "cell_type": "code",
   "execution_count": 9,
   "metadata": {},
   "outputs": [
    {
     "data": {
      "text/plain": [
       "0.958178135115024"
      ]
     },
     "execution_count": 9,
     "metadata": {},
     "output_type": "execute_result"
    }
   ],
   "source": [
    "shear = sa.find_shear(\"data3/80del40chirp_sheared.csv\", \n",
    "            \"data3/80del40chirp_not_sheared.csv\", \n",
    "            smoothing_period = None,\n",
    "            how = how, \n",
    "            plot = False)\n",
    "\n",
    "phase_40_v3 = sa.spider(\"data3/80del40chirp_p_spectrum.csv\", \n",
    "          \"data3/80del40chirp_t_spectrum.csv\",\n",
    "          shear = shear,\n",
    "          what_to_return = \"phase\",\n",
    "          plot_pulse = False,\n",
    "          plot_phase = False,\n",
    "          smoothing_period = 0.065)[1]\n",
    "\n",
    "sa.chirp_r2(phase_40_v3, 124, False)"
   ]
  },
  {
   "cell_type": "markdown",
   "metadata": {},
   "source": [
    "# 40 m delay, 0 m chirp"
   ]
  },
  {
   "cell_type": "code",
   "execution_count": 10,
   "metadata": {},
   "outputs": [
    {
     "data": {
      "text/plain": [
       "0.32384864122726914"
      ]
     },
     "execution_count": 10,
     "metadata": {},
     "output_type": "execute_result"
    }
   ],
   "source": [
    "shear = sa.find_shear(\"data4/40d0c_shear.csv\", \n",
    "            \"data4/40d0c_noshear.csv\", \n",
    "            smoothing_period = None,\n",
    "            how = how, \n",
    "            plot = False)\n",
    "\n",
    "phase_40_0 = sa.spider(\"data4/40d0c_tspectrum.csv\", \n",
    "          \"data4/40d0c_pspectrum.csv\",\n",
    "          shear = shear,\n",
    "          what_to_return = \"phase\",\n",
    "          plot_pulse = False,\n",
    "          plot_phase = False,\n",
    "          smoothing_period = 0.065)[1]\n",
    "\n",
    "sa.chirp_r2(phase_40_0, 44, False)"
   ]
  },
  {
   "cell_type": "markdown",
   "metadata": {},
   "source": [
    "# 40 m delay, 20 m chirp"
   ]
  },
  {
   "cell_type": "code",
   "execution_count": 11,
   "metadata": {},
   "outputs": [
    {
     "data": {
      "text/plain": [
       "0.7189063911998953"
      ]
     },
     "execution_count": 11,
     "metadata": {},
     "output_type": "execute_result"
    }
   ],
   "source": [
    "shear = sa.find_shear(\"data4/40d20c_shear.csv\", \n",
    "            \"data4/40d20c_noshear.csv\", \n",
    "            smoothing_period = None,\n",
    "            how = how, \n",
    "            plot = False)\n",
    "\n",
    "phase_40_20 = sa.spider(\"data4/40d20c_tspectrum.csv\", \n",
    "          \"data4/40d20c_pspectrum.csv\",\n",
    "          shear = shear,\n",
    "          what_to_return = \"phase\",\n",
    "          plot_pulse = False,\n",
    "          plot_phase = False,\n",
    "          smoothing_period = 0.065)[1]\n",
    "\n",
    "sa.chirp_r2(phase_40_0, 64, False)"
   ]
  },
  {
   "cell_type": "markdown",
   "metadata": {},
   "source": [
    "# 40 m delay, 80 m chirp"
   ]
  },
  {
   "cell_type": "code",
   "execution_count": 12,
   "metadata": {},
   "outputs": [
    {
     "data": {
      "text/plain": [
       "0.8606925972401688"
      ]
     },
     "execution_count": 12,
     "metadata": {},
     "output_type": "execute_result"
    }
   ],
   "source": [
    "shear = sa.find_shear(\"data4/40d80c_shear.csv\", \n",
    "            \"data4/40d80c_noshear.csv\", \n",
    "            smoothing_period = None,\n",
    "            how = how, \n",
    "            plot = False)\n",
    "\n",
    "phase_40_80 = sa.spider(\"data4/40d80c_tspectrum.csv\", \n",
    "          \"data4/40d80c_pspectrum.csv\",\n",
    "          shear = shear,\n",
    "          what_to_return = \"phase\",\n",
    "          plot_pulse = False,\n",
    "          plot_phase = False,\n",
    "          smoothing_period = 0.065)[1]\n",
    "\n",
    "sa.chirp_r2(phase_40_0, 124, False)"
   ]
  },
  {
   "cell_type": "markdown",
   "metadata": {},
   "source": [
    "# 40 m delay, 100 m chirp"
   ]
  },
  {
   "cell_type": "code",
   "execution_count": 13,
   "metadata": {},
   "outputs": [
    {
     "data": {
      "text/plain": [
       "0.9653757247581185"
      ]
     },
     "execution_count": 13,
     "metadata": {},
     "output_type": "execute_result"
    }
   ],
   "source": [
    "shear = sa.find_shear(\"data4/40d100c_shear.csv\", \n",
    "            \"data4/40d100c_noshear.csv\", \n",
    "            smoothing_period = None,\n",
    "            how = how, \n",
    "            plot = False)\n",
    "\n",
    "phase_40_100 = sa.spider(\"data4/40d100c_tspectrum.csv\", \n",
    "          \"data4/40d100c_pspectrum.csv\",\n",
    "          shear = shear,\n",
    "          what_to_return = \"phase\",\n",
    "          plot_pulse = False,\n",
    "          plot_phase = False,\n",
    "          smoothing_period = 0.065)[1]\n",
    "\n",
    "sa.chirp_r2(phase_40_100, 144, False)"
   ]
  },
  {
   "cell_type": "markdown",
   "metadata": {},
   "source": [
    "# 80 m - three identical probes"
   ]
  },
  {
   "cell_type": "code",
   "execution_count": 14,
   "metadata": {},
   "outputs": [
    {
     "data": {
      "text/plain": [
       "0.9727613239461067"
      ]
     },
     "execution_count": 14,
     "metadata": {},
     "output_type": "execute_result"
    }
   ],
   "source": [
    "shear = sa.find_shear(\"data5/80d_shear_i.csv\", \n",
    "            \"data5/80d_noshear_i.csv\", \n",
    "            smoothing_period = None,\n",
    "            how = how, \n",
    "            plot = False)\n",
    "\n",
    "phase_80_i = sa.spider(\"data5/80d_tspectrum_i.csv\", \n",
    "          \"data5/80d_pspectrum_i.csv\",\n",
    "          shear = shear,\n",
    "          what_to_return = \"phase\",\n",
    "          plot_pulse = False,\n",
    "          plot_phase = False,\n",
    "          smoothing_period = 0.065)[1]\n",
    "\n",
    "sa.chirp_r2(phase_80_i, 84, False)"
   ]
  },
  {
   "cell_type": "code",
   "execution_count": 15,
   "metadata": {},
   "outputs": [
    {
     "data": {
      "text/plain": [
       "0.980785900471361"
      ]
     },
     "execution_count": 15,
     "metadata": {},
     "output_type": "execute_result"
    }
   ],
   "source": [
    "shear = sa.find_shear(\"data5/80d_shear_ii.csv\", \n",
    "            \"data5/80d_noshear_ii.csv\", \n",
    "            smoothing_period = None,\n",
    "            how = how, \n",
    "            plot = False)\n",
    "\n",
    "phase_80_ii = sa.spider(\"data5/80d_tspectrum_ii.csv\", \n",
    "          \"data5/80d_pspectrum_ii.csv\",\n",
    "          shear = shear,\n",
    "          what_to_return = \"phase\",\n",
    "          plot_pulse = False,\n",
    "          plot_phase = False,\n",
    "          smoothing_period = 0.065)[1]\n",
    "\n",
    "sa.chirp_r2(phase_80_ii, 84, False)"
   ]
  },
  {
   "cell_type": "code",
   "execution_count": 16,
   "metadata": {},
   "outputs": [
    {
     "data": {
      "text/plain": [
       "0.9882852952439356"
      ]
     },
     "execution_count": 16,
     "metadata": {},
     "output_type": "execute_result"
    }
   ],
   "source": [
    "shear = sa.find_shear(\"data5/80d_shear_iii.csv\", \n",
    "            \"data5/80d_noshear_iii.csv\", \n",
    "            smoothing_period = None,\n",
    "            how = how, \n",
    "            plot = False)\n",
    "\n",
    "phase_80_iii = sa.spider(\"data5/80d_tspectrum_iii.csv\", \n",
    "          \"data5/80d_pspectrum_iii.csv\",\n",
    "          shear = shear,\n",
    "          what_to_return = \"phase\",\n",
    "          plot_pulse = False,\n",
    "          plot_phase = False,\n",
    "          smoothing_period = 0.065)[1]\n",
    "\n",
    "sa.chirp_r2(phase_80_iii, 84, False)"
   ]
  },
  {
   "cell_type": "markdown",
   "metadata": {},
   "source": [
    "# And we compare everything"
   ]
  },
  {
   "cell_type": "code",
   "execution_count": 17,
   "metadata": {},
   "outputs": [
    {
     "data": {
      "image/png": "[encoded data removed]",
      "text/plain": [
       "<Figure size 640x480 with 1 Axes>"
      ]
     },
     "metadata": {},
     "output_type": "display_data"
    }
   ],
   "source": [
    "phase_20.Y = np.abs(phase_20.Y)\n",
    "phase_40.Y = np.abs(phase_40.Y)\n",
    "phase_60.Y = np.abs(phase_60.Y)\n",
    "phase_40_v2.Y = np.abs(phase_40_v2.Y)\n",
    "phase_20_v3.Y = np.abs(phase_20_v3.Y)\n",
    "phase_40_v3.Y = np.abs(phase_40_v3.Y)\n",
    "phase_40_0.Y = np.abs(phase_40_0.Y)\n",
    "phase_80_i.Y = np.abs(phase_80_i.Y)\n",
    "phase_80_ii.Y = np.abs(phase_80_ii.Y)\n",
    "phase_80_iii.Y = np.abs(phase_80_iii.Y)\n",
    "\n",
    "\n",
    "if np.searchsorted(phase_40_v2.X, np.argmin(phase_40_v2.Y)) != np.searchsorted(phase_40.X, np.argmin(phase_40.Y)):\n",
    "    phase_40_v2.shift(phase_40.X[np.argmin(phase_40.Y)] - phase_40_v2.X[np.argmin(phase_40_v2.Y)])\n",
    "\n",
    "if np.searchsorted(phase_0.X, np.argmin(phase_40.Y)) != np.searchsorted(phase_40.X, np.argmin(phase_40.Y)):\n",
    "    phase_0.shift(phase_40.X[np.argmin(phase_40.Y)] - phase_0.X[np.argmin(phase_0.Y)])\n",
    "\n",
    "fiber_0 = sa.fit_fiber_length(phase_0, False)\n",
    "fiber_20 = sa.fit_fiber_length(phase_20, False)\n",
    "fiber_40 = sa.fit_fiber_length(phase_40, False)\n",
    "fiber_60 = sa.fit_fiber_length(phase_60, False)\n",
    "fiber_40_v2 = sa.fit_fiber_length(phase_40_v2, False)\n",
    "fiber_20_v3 = sa.fit_fiber_length(phase_20_v3, False)\n",
    "fiber_40_v3 = sa.fit_fiber_length(phase_40_v3, False)\n",
    "fiber_s_0 = sa.fit_fiber_length(phase_40_0, False)          # s stands for short I guess\n",
    "fiber_s_20 = sa.fit_fiber_length(phase_40_20, False, 100)\n",
    "fiber_s_80 = sa.fit_fiber_length(phase_40_80, False)\n",
    "fiber_s_100 = sa.fit_fiber_length(phase_40_100, False)\n",
    "fiber_80_i = sa.fit_fiber_length(phase_80_i, False)\n",
    "fiber_80_ii = sa.fit_fiber_length(phase_80_ii, False)\n",
    "fiber_80_iii = sa.fit_fiber_length(phase_80_iii, False)\n",
    "\n",
    "\n",
    "\n",
    "plt.scatter([84, 104, 124, 144], [fiber_0, fiber_20, fiber_40, fiber_60], color = \"green\", alpha = 0.5)\n",
    "plt.scatter([124], [fiber_40_v2], color = \"blue\", alpha = 0.5)\n",
    "plt.scatter([104, 124], [fiber_20_v3, fiber_40_v3], color = \"red\", alpha = 0.5)\n",
    "plt.scatter([44, 64, 124, 144], [fiber_s_0, fiber_s_20, fiber_s_80, fiber_s_100], color = \"orange\", marker = \"s\", alpha = 0.5)\n",
    "plt.scatter([84, 84, 84], [fiber_80_i, fiber_80_ii, fiber_80_iii], alpha = 0.5, color = \"deeppink\")\n",
    "plt.plot(np.linspace(0, 150, 100), np.linspace(0, 150, 100), color = \"black\")\n",
    "plt.ylabel(\"Best fit fiber length\")\n",
    "plt.xlabel(\"Actual fiber length\")\n",
    "plt.ylim([0, 220])\n",
    "plt.xlim([0, 150])\n",
    "plt.grid()\n",
    "plt.title(\"Fitting the fiber length\")\n",
    "plt.legend([\"27.09.2023\", \"25.09.2023\",\"12.08.2023\", \"3.10.2023\", \"20.10.2023\", \"What we pray for\"])\n",
    "plt.text(x = 40, y = 10, s = \"Method: {}\".format(method_descr))\n",
    "plt.savefig(\"Reconstructions_effects_{}.jpg\".format(how))\n",
    "plt.show()"
   ]
  }
 ],
 "metadata": {
  "kernelspec": {
   "display_name": "Python 3",
   "language": "python",
   "name": "python3"
  },
  "language_info": {
   "codemirror_mode": {
    "name": "ipython",
    "version": 3
   },
   "file_extension": ".py",
   "mimetype": "text/x-python",
   "name": "python",
   "nbconvert_exporter": "python",
   "pygments_lexer": "ipython3",
   "version": "3.10.10"
  },
  "orig_nbformat": 4
 },
 "nbformat": 4,
 "nbformat_minor": 2
}
