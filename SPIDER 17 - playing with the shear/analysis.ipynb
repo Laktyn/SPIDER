{
 "cells": [
  {
   "cell_type": "markdown",
   "metadata": {},
   "source": [
    "# Modules"
   ]
  },
  {
   "cell_type": "code",
   "execution_count": 22,
   "metadata": {},
   "outputs": [
    {
     "data": {
      "text/plain": [
       "<module 'spectral_analysis' from 'd:\\\\Users\\\\rewas\\\\AppData\\\\Local\\\\Programs\\\\Python\\\\Python310\\\\lib\\\\site-packages\\\\spectral_analysis.py'>"
      ]
     },
     "execution_count": 22,
     "metadata": {},
     "output_type": "execute_result"
    }
   ],
   "source": [
    "import spectral_analysis as sa\n",
    "import numpy as np\n",
    "import matplotlib.pyplot as plt\n",
    "import pandas as pd\n",
    "\n",
    "import importlib\n",
    "import sys\n",
    "module = sys.modules[\"spectral_analysis\"]\n",
    "importlib.reload(module)"
   ]
  },
  {
   "cell_type": "markdown",
   "metadata": {},
   "source": [
    "# Shears"
   ]
  },
  {
   "cell_type": "code",
   "execution_count": 14,
   "metadata": {},
   "outputs": [],
   "source": [
    "spectre = pd.read_csv(\"data/10uW_notsheared.csv\", skiprows = 2)"
   ]
  },
  {
   "cell_type": "code",
   "execution_count": 13,
   "metadata": {},
   "outputs": [
    {
     "name": "stdout",
     "output_type": "stream",
     "text": [
      "0.008023533070732043\n",
      "0.019494331731161708\n",
      "0.030616519309131916\n",
      "0.04057633793501307\n",
      "0.05918469950089579\n",
      "0.07415256533423073\n",
      "0.0842338998231418\n",
      "0.09366831174617403\n"
     ]
    },
    {
     "data": {
      "image/png": "[encoded data removed]",
      "text/plain": [
       "<Figure size 640x480 with 1 Axes>"
      ]
     },
     "metadata": {},
     "output_type": "display_data"
    }
   ],
   "source": [
    "voltages = [10, 20, 30, 40, 60, 80, 100, 260]\n",
    "\n",
    "shears = []\n",
    "\n",
    "for voltage in voltages:\n",
    "\n",
    "    shear = sa.find_shear(\"data/{}uW_notsheared.csv\".format(voltage), \"data/{}uW_sheared.csv\".format(voltage), plot = False, smoothing_period = 1/15, how = \"slope\")\n",
    "    print(shear)\n",
    "    shears.append(shear)\n",
    "\n",
    "plt.scatter(voltages, shears, color = \"deeppink\")\n",
    "plt.grid()\n",
    "plt.xlabel(\"Power on PD (uW)\")\n",
    "plt.ylabel(\"Shear (THz)\")\n",
    "plt.title(\"Power on photodiode vs shear\")\n",
    "plt.savefig(\"PD_vs_shear.jpg\")\n",
    "plt.show()"
   ]
  },
  {
   "cell_type": "code",
   "execution_count": 25,
   "metadata": {},
   "outputs": [
    {
     "name": "stdout",
     "output_type": "stream",
     "text": [
      "Starting SPIDER calculations.\n",
      "\n"
     ]
    },
    {
     "ename": "ValueError",
     "evalue": "`x` must be strictly increasing sequence.",
     "output_type": "error",
     "traceback": [
      "\u001b[1;31m---------------------------------------------------------------------------\u001b[0m",
      "\u001b[1;31mValueError\u001b[0m                                Traceback (most recent call last)",
      "\u001b[1;32mc:\\Users\\rewas\\Desktop\\Uniwerek\\Licencjat (ten drugi)\\SPIDER\\SPIDER 17 - playing with the shear\\analysis.ipynb Cell 6\u001b[0m line \u001b[0;36m6\n\u001b[0;32m      <a href='vscode-notebook-cell:/c%3A/Users/rewas/Desktop/Uniwerek/Licencjat%20%28ten%20drugi%29/SPIDER/SPIDER%2017%20-%20playing%20with%20the%20shear/analysis.ipynb#W5sZmlsZQ%3D%3D?line=2'>3</a>\u001b[0m \u001b[39mprint\u001b[39m(\u001b[39m\"\u001b[39m\u001b[39mStarting SPIDER calculations.\u001b[39m\u001b[39m\\n\u001b[39;00m\u001b[39m\"\u001b[39m)\n\u001b[0;32m      <a href='vscode-notebook-cell:/c%3A/Users/rewas/Desktop/Uniwerek/Licencjat%20%28ten%20drugi%29/SPIDER/SPIDER%2017%20-%20playing%20with%20the%20shear/analysis.ipynb#W5sZmlsZQ%3D%3D?line=4'>5</a>\u001b[0m \u001b[39mfor\u001b[39;00m i \u001b[39min\u001b[39;00m \u001b[39mrange\u001b[39m(\u001b[39mlen\u001b[39m(voltages)):\n\u001b[1;32m----> <a href='vscode-notebook-cell:/c%3A/Users/rewas/Desktop/Uniwerek/Licencjat%20%28ten%20drugi%29/SPIDER/SPIDER%2017%20-%20playing%20with%20the%20shear/analysis.ipynb#W5sZmlsZQ%3D%3D?line=5'>6</a>\u001b[0m     phase \u001b[39m=\u001b[39m sa\u001b[39m.\u001b[39mspider(phase_spectrum \u001b[39m=\u001b[39m \u001b[39m\"\u001b[39m\u001b[39mdata/\u001b[39m\u001b[39m{}\u001b[39;00m\u001b[39muW_pspectrum.csv\u001b[39m\u001b[39m\"\u001b[39m\u001b[39m.\u001b[39mformat(voltages[i]),\n\u001b[0;32m      <a href='vscode-notebook-cell:/c%3A/Users/rewas/Desktop/Uniwerek/Licencjat%20%28ten%20drugi%29/SPIDER/SPIDER%2017%20-%20playing%20with%20the%20shear/analysis.ipynb#W5sZmlsZQ%3D%3D?line=6'>7</a>\u001b[0m                       temporal_spectrum \u001b[39m=\u001b[39m \u001b[39m\"\u001b[39m\u001b[39mdata/\u001b[39m\u001b[39m{}\u001b[39;00m\u001b[39muW_tspectrum.csv\u001b[39m\u001b[39m\"\u001b[39m\u001b[39m.\u001b[39mformat(voltages[i]),\n\u001b[0;32m      <a href='vscode-notebook-cell:/c%3A/Users/rewas/Desktop/Uniwerek/Licencjat%20%28ten%20drugi%29/SPIDER/SPIDER%2017%20-%20playing%20with%20the%20shear/analysis.ipynb#W5sZmlsZQ%3D%3D?line=7'>8</a>\u001b[0m                       shear \u001b[39m=\u001b[39m \u001b[39m-\u001b[39mshears[i],\n\u001b[0;32m      <a href='vscode-notebook-cell:/c%3A/Users/rewas/Desktop/Uniwerek/Licencjat%20%28ten%20drugi%29/SPIDER/SPIDER%2017%20-%20playing%20with%20the%20shear/analysis.ipynb#W5sZmlsZQ%3D%3D?line=8'>9</a>\u001b[0m                       smoothing_period \u001b[39m=\u001b[39m \u001b[39m0.065\u001b[39m,\n\u001b[0;32m     <a href='vscode-notebook-cell:/c%3A/Users/rewas/Desktop/Uniwerek/Licencjat%20%28ten%20drugi%29/SPIDER/SPIDER%2017%20-%20playing%20with%20the%20shear/analysis.ipynb#W5sZmlsZQ%3D%3D?line=9'>10</a>\u001b[0m                       plot_phase \u001b[39m=\u001b[39m \u001b[39mFalse\u001b[39;00m,\n\u001b[0;32m     <a href='vscode-notebook-cell:/c%3A/Users/rewas/Desktop/Uniwerek/Licencjat%20%28ten%20drugi%29/SPIDER/SPIDER%2017%20-%20playing%20with%20the%20shear/analysis.ipynb#W5sZmlsZQ%3D%3D?line=10'>11</a>\u001b[0m                       plot_steps \u001b[39m=\u001b[39m \u001b[39mFalse\u001b[39;00m,\n\u001b[0;32m     <a href='vscode-notebook-cell:/c%3A/Users/rewas/Desktop/Uniwerek/Licencjat%20%28ten%20drugi%29/SPIDER/SPIDER%2017%20-%20playing%20with%20the%20shear/analysis.ipynb#W5sZmlsZQ%3D%3D?line=11'>12</a>\u001b[0m                       plot_shear \u001b[39m=\u001b[39m \u001b[39mTrue\u001b[39;00m,\n\u001b[0;32m     <a href='vscode-notebook-cell:/c%3A/Users/rewas/Desktop/Uniwerek/Licencjat%20%28ten%20drugi%29/SPIDER/SPIDER%2017%20-%20playing%20with%20the%20shear/analysis.ipynb#W5sZmlsZQ%3D%3D?line=12'>13</a>\u001b[0m                       what_to_return \u001b[39m=\u001b[39m \u001b[39m\"\u001b[39m\u001b[39mphase\u001b[39m\u001b[39m\"\u001b[39m,\n\u001b[0;32m     <a href='vscode-notebook-cell:/c%3A/Users/rewas/Desktop/Uniwerek/Licencjat%20%28ten%20drugi%29/SPIDER/SPIDER%2017%20-%20playing%20with%20the%20shear/analysis.ipynb#W5sZmlsZQ%3D%3D?line=13'>14</a>\u001b[0m                       sheared_is_bigger\u001b[39m=\u001b[39m\u001b[39mTrue\u001b[39;00m\n\u001b[0;32m     <a href='vscode-notebook-cell:/c%3A/Users/rewas/Desktop/Uniwerek/Licencjat%20%28ten%20drugi%29/SPIDER/SPIDER%2017%20-%20playing%20with%20the%20shear/analysis.ipynb#W5sZmlsZQ%3D%3D?line=14'>15</a>\u001b[0m                       )[\u001b[39m1\u001b[39m]\n\u001b[0;32m     <a href='vscode-notebook-cell:/c%3A/Users/rewas/Desktop/Uniwerek/Licencjat%20%28ten%20drugi%29/SPIDER/SPIDER%2017%20-%20playing%20with%20the%20shear/analysis.ipynb#W5sZmlsZQ%3D%3D?line=15'>16</a>\u001b[0m     phases\u001b[39m.\u001b[39mappend(phase)\n\u001b[0;32m     <a href='vscode-notebook-cell:/c%3A/Users/rewas/Desktop/Uniwerek/Licencjat%20%28ten%20drugi%29/SPIDER/SPIDER%2017%20-%20playing%20with%20the%20shear/analysis.ipynb#W5sZmlsZQ%3D%3D?line=16'>17</a>\u001b[0m     \u001b[39mprint\u001b[39m(\u001b[39m\"\u001b[39m\u001b[39m{}\u001b[39;00m\u001b[39m/\u001b[39m\u001b[39m{}\u001b[39;00m\u001b[39m\"\u001b[39m\u001b[39m.\u001b[39mformat(i\u001b[39m+\u001b[39m\u001b[39m1\u001b[39m, \u001b[39mlen\u001b[39m(voltages)))\n",
      "File \u001b[1;32md:\\Users\\rewas\\AppData\\Local\\Programs\\Python\\Python310\\lib\\site-packages\\spectral_analysis.py:1849\u001b[0m, in \u001b[0;36mspider\u001b[1;34m(phase_spectrum, temporal_spectrum, shear, intensity_spectrum, phase_borders, what_to_return, smoothing_period, find_shear, sheared_is_bigger, plot_steps, plot_phase, plot_shear, plot_pulse)\u001b[0m\n\u001b[0;32m   1845\u001b[0m phase_spectrum_first \u001b[39m=\u001b[39m spectrum(X_sampled, Y_sampled, \u001b[39m\"\u001b[39m\u001b[39mfreq\u001b[39m\u001b[39m\"\u001b[39m, \u001b[39m\"\u001b[39m\u001b[39mphase\u001b[39m\u001b[39m\"\u001b[39m)\n\u001b[0;32m   1847\u001b[0m \u001b[39m# firstly initial interpolation to translate spectrum to X-axis (global phase standarization)\u001b[39;00m\n\u001b[1;32m-> 1849\u001b[0m interpolated_phase_first \u001b[39m=\u001b[39m sa\u001b[39m.\u001b[39;49minterpolate(phase_spectrum_first, X_continuous)\n\u001b[0;32m   1850\u001b[0m Y_continuous \u001b[39m=\u001b[39m interpolated_phase_first\u001b[39m.\u001b[39mY\n\u001b[0;32m   1852\u001b[0m \u001b[39mif\u001b[39;00m np\u001b[39m.\u001b[39mmean(Y_continuous) \u001b[39m>\u001b[39m Y_continuous[flr(\u001b[39mlen\u001b[39m(Y_continuous)\u001b[39m/\u001b[39m\u001b[39m2\u001b[39m)]:\n",
      "File \u001b[1;32md:\\Users\\rewas\\AppData\\Local\\Programs\\Python\\Python310\\lib\\site-packages\\spectral_analysis.py:724\u001b[0m, in \u001b[0;36minterpolate\u001b[1;34m(old_spectrum, new_X)\u001b[0m\n\u001b[0;32m    721\u001b[0m X \u001b[39m=\u001b[39m np\u001b[39m.\u001b[39mreal(old_spectrum\u001b[39m.\u001b[39mX\u001b[39m.\u001b[39mcopy())\n\u001b[0;32m    722\u001b[0m Y \u001b[39m=\u001b[39m np\u001b[39m.\u001b[39mreal(old_spectrum\u001b[39m.\u001b[39mY\u001b[39m.\u001b[39mcopy())\n\u001b[1;32m--> 724\u001b[0m model \u001b[39m=\u001b[39m CubicSpline(X, Y)\n\u001b[0;32m    725\u001b[0m new_Y \u001b[39m=\u001b[39m model(np\u001b[39m.\u001b[39mreal(new_X))\n\u001b[0;32m    727\u001b[0m \u001b[39mreturn\u001b[39;00m spectrum(new_X, new_Y, old_spectrum\u001b[39m.\u001b[39mx_type, old_spectrum\u001b[39m.\u001b[39my_type)\n",
      "File \u001b[1;32md:\\Users\\rewas\\AppData\\Local\\Programs\\Python\\Python310\\lib\\site-packages\\scipy\\interpolate\\_cubic.py:635\u001b[0m, in \u001b[0;36mCubicSpline.__init__\u001b[1;34m(self, x, y, axis, bc_type, extrapolate)\u001b[0m\n\u001b[0;32m    634\u001b[0m \u001b[39mdef\u001b[39;00m \u001b[39m__init__\u001b[39m(\u001b[39mself\u001b[39m, x, y, axis\u001b[39m=\u001b[39m\u001b[39m0\u001b[39m, bc_type\u001b[39m=\u001b[39m\u001b[39m'\u001b[39m\u001b[39mnot-a-knot\u001b[39m\u001b[39m'\u001b[39m, extrapolate\u001b[39m=\u001b[39m\u001b[39mNone\u001b[39;00m):\n\u001b[1;32m--> 635\u001b[0m     x, dx, y, axis, _ \u001b[39m=\u001b[39m prepare_input(x, y, axis)\n\u001b[0;32m    636\u001b[0m     n \u001b[39m=\u001b[39m \u001b[39mlen\u001b[39m(x)\n\u001b[0;32m    638\u001b[0m     bc, y \u001b[39m=\u001b[39m \u001b[39mself\u001b[39m\u001b[39m.\u001b[39m_validate_bc(bc_type, y, y\u001b[39m.\u001b[39mshape[\u001b[39m1\u001b[39m:], axis)\n",
      "File \u001b[1;32md:\\Users\\rewas\\AppData\\Local\\Programs\\Python\\Python310\\lib\\site-packages\\scipy\\interpolate\\_cubic.py:61\u001b[0m, in \u001b[0;36mprepare_input\u001b[1;34m(x, y, axis, dydx)\u001b[0m\n\u001b[0;32m     59\u001b[0m dx \u001b[39m=\u001b[39m np\u001b[39m.\u001b[39mdiff(x)\n\u001b[0;32m     60\u001b[0m \u001b[39mif\u001b[39;00m np\u001b[39m.\u001b[39many(dx \u001b[39m<\u001b[39m\u001b[39m=\u001b[39m \u001b[39m0\u001b[39m):\n\u001b[1;32m---> 61\u001b[0m     \u001b[39mraise\u001b[39;00m \u001b[39mValueError\u001b[39;00m(\u001b[39m\"\u001b[39m\u001b[39m`x` must be strictly increasing sequence.\u001b[39m\u001b[39m\"\u001b[39m)\n\u001b[0;32m     63\u001b[0m y \u001b[39m=\u001b[39m np\u001b[39m.\u001b[39mmoveaxis(y, axis, \u001b[39m0\u001b[39m)\n\u001b[0;32m     64\u001b[0m \u001b[39mif\u001b[39;00m dydx \u001b[39mis\u001b[39;00m \u001b[39mnot\u001b[39;00m \u001b[39mNone\u001b[39;00m:\n",
      "\u001b[1;31mValueError\u001b[0m: `x` must be strictly increasing sequence."
     ]
    }
   ],
   "source": [
    "phases = []\n",
    "\n",
    "print(\"Starting SPIDER calculations.\\n\")\n",
    "\n",
    "for i in range(len(voltages)):\n",
    "    phase = sa.spider(phase_spectrum = \"data/{}uW_pspectrum.csv\".format(voltages[i]),\n",
    "                      temporal_spectrum = \"data/{}uW_tspectrum.csv\".format(voltages[i]),\n",
    "                      shear = -shears[i],\n",
    "                      smoothing_period = 0.065,\n",
    "                      plot_phase = False,\n",
    "                      plot_steps = False,\n",
    "                      plot_shear = True,\n",
    "                      what_to_return = \"phase\",\n",
    "                      sheared_is_bigger=True\n",
    "                      )[1]\n",
    "    phases.append(phase)\n",
    "    print(\"{}/{}\".format(i+1, len(voltages)))\n",
    "\n",
    "print(\"\\nYaaay! Everything seems fine!\\n\")\n",
    "\n",
    "fibers = []\n",
    "\n",
    "for i in range(len(voltages)):\n",
    "    fibers.append(sa.fit_fiber_length(phases[i], plot = False))\n",
    "\n",
    "plt.scatter(shears, fibers, color = \"deeppink\")\n",
    "plt.axhline(y = 84, color = \"green\")\n",
    "plt.text(x = 0.03, y = 72, s = \"Expectations\", color = \"green\", size = \"large\")\n",
    "plt.text(x = 0.038, y = 93, s = \"Reality\", color = \"deeppink\", size = \"large\")\n",
    "plt.grid()\n",
    "plt.title(\"Used fiber length - 84 m.\\nFiber lengths fitted to reconstructed phases are plotted.\")\n",
    "plt.ylim([0, 140])\n",
    "plt.xlim([0, 0.1])\n",
    "plt.xlabel(\"Shear (THz)\")\n",
    "plt.ylabel(\"Fiber length (m)\")\n",
    "plt.savefig(\"best_fit_fiber2.jpg\")\n",
    "plt.show()"
   ]
  }
 ],
 "metadata": {
  "kernelspec": {
   "display_name": "Python 3",
   "language": "python",
   "name": "python3"
  },
  "language_info": {
   "codemirror_mode": {
    "name": "ipython",
    "version": 3
   },
   "file_extension": ".py",
   "mimetype": "text/x-python",
   "name": "python",
   "nbconvert_exporter": "python",
   "pygments_lexer": "ipython3",
   "version": "3.10.10"
  }
 },
 "nbformat": 4,
 "nbformat_minor": 2
}
