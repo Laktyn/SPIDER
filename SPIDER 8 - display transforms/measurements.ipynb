{
 "cells": [
  {
   "cell_type": "code",
   "execution_count": null,
   "metadata": {},
   "outputs": [],
   "source": [
    "import spectral_analysis as sa\n",
    "centre = 1550\n",
    "span = 30\n",
    "shear = None\n",
    "phase_borders = [190, 193]"
   ]
  },
  {
   "attachments": {},
   "cell_type": "markdown",
   "metadata": {},
   "source": [
    "# Continuous OSA measurement"
   ]
  },
  {
   "cell_type": "code",
   "execution_count": null,
   "metadata": {},
   "outputs": [],
   "source": [
    "sa.OSA(centre = centre, span = span)"
   ]
  },
  {
   "attachments": {},
   "cell_type": "markdown",
   "metadata": {},
   "source": [
    "# EOPM OFF"
   ]
  },
  {
   "cell_type": "code",
   "execution_count": null,
   "metadata": {},
   "outputs": [],
   "source": [
    "temporal_spectrum = sa.measurement(centre = centre, span = span) "
   ]
  },
  {
   "attachments": {},
   "cell_type": "markdown",
   "metadata": {},
   "source": [
    "# EOPM ON"
   ]
  },
  {
   "cell_type": "code",
   "execution_count": null,
   "metadata": {},
   "outputs": [],
   "source": [
    "phase_spectrum = sa.measurement(centre = centre, span = span) "
   ]
  },
  {
   "attachments": {},
   "cell_type": "markdown",
   "metadata": {},
   "source": [
    "# Find phase difference and plot it"
   ]
  },
  {
   "cell_type": "code",
   "execution_count": null,
   "metadata": {},
   "outputs": [],
   "source": [
    "phase_difference = sa.spider(phase_spectrum = phase_spectrum,\n",
    "                             temporal_spectrum = temporal_spectrum,\n",
    "                             shear = shear,\n",
    "                             phase_borders = phase_borders,\n",
    "                             plot_steps = False,\n",
    "                             plot_phase = False,\n",
    "                             plot_shear = False,\n",
    "                             plot_pulse = False,\n",
    "                             what_to_return = \"phase_diff\"\n",
    "                             )\n",
    "\n",
    "sa.plot(phase_difference, color = \"orange\", title = \"Phase difference\", what_to_plot = \"real\")"
   ]
  }
 ],
 "metadata": {
  "kernelspec": {
   "display_name": "Python 3",
   "language": "python",
   "name": "python3"
  },
  "language_info": {
   "codemirror_mode": {
    "name": "ipython",
    "version": 3
   },
   "file_extension": ".py",
   "mimetype": "text/x-python",
   "name": "python",
   "nbconvert_exporter": "python",
   "pygments_lexer": "ipython3",
   "version": "3.10.10"
  },
  "orig_nbformat": 4
 },
 "nbformat": 4,
 "nbformat_minor": 2
}
